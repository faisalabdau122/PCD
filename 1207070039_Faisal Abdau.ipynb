{
  "nbformat": 4,
  "nbformat_minor": 0,
  "metadata": {
    "colab": {
      "provenance": []
    },
    "kernelspec": {
      "name": "python3",
      "display_name": "Python 3"
    },
    "language_info": {
      "name": "python"
    }
  },
  "cells": [
    {
      "cell_type": "markdown",
      "source": [],
      "metadata": {
        "id": "7erFbKymGbjW"
      }
    },
    {
      "cell_type": "code",
      "source": [
        "import mahotas as mh \n",
        "import numpy as np from pylab \n",
        "import imshow, show\n",
        "\n",
        "regions = np.zeros((8,8), bool) \n",
        "regions[:3,:3] = 1 \n",
        "regions[6:,6:] = 1 \n",
        "labeled, nr_objects = mh.label(regions) \n",
        "imshow(labeled, interpolation='nearest') \n",
        "show() \n"
      ],
      "metadata": {
        "colab": {
          "base_uri": "https://localhost:8080/",
          "height": 135
        },
        "id": "Mk9pyiPuKNtG",
        "outputId": "a435fd9a-aa3b-4cff-f1e9-afd57358733b"
      },
      "execution_count": 27,
      "outputs": [
        {
          "output_type": "error",
          "ename": "SyntaxError",
          "evalue": "ignored",
          "traceback": [
            "\u001b[0;36m  File \u001b[0;32m\"<ipython-input-27-b35521c1a479>\"\u001b[0;36m, line \u001b[0;32m2\u001b[0m\n\u001b[0;31m    import numpy as np from pylab\u001b[0m\n\u001b[0m                       ^\u001b[0m\n\u001b[0;31mSyntaxError\u001b[0m\u001b[0;31m:\u001b[0m invalid syntax\n"
          ]
        }
      ]
    },
    {
      "cell_type": "code",
      "source": [],
      "metadata": {
        "id": "7Pk5HoWWNORI"
      },
      "execution_count": null,
      "outputs": []
    },
    {
      "cell_type": "code",
      "source": [
        "import cv2 as cv \n",
        "import numpy as np \n",
        "import matplotlib.pyplot as plt \n",
        "\n",
        "image = cv.imread(\"kucing.jpg\") \n",
        "fig, ax = plt.subplots(1, 3, figsize=(16, 8))\n",
        "\n",
        "# image size being 0.15 times of it's original size \n",
        "image_scaled = cv.resize(image, None , fx=0.15, fy=0.15) \n",
        "ax[0].imshow(cv.cvtColor(image_scaled, cv.COLOR_BGR2RGB)) \n",
        "ax[0].set_title(\"Linear Interpolation Scale\") \n",
        "\n",
        "# image size being 2 times of it's original size \n",
        "image_scaled_2 = cv.resize(image, None, fx=2, fy=2, interpolation=cv.INTER_CUBIC) \n",
        "ax[1].imshow(cv.cvtColor(image_scaled_2, cv.COLOR_BGR2RGB)) \n",
        "ax[1].set_title(\"Cubic Interpolation Scale\") \n",
        "\n",
        "# image size being 0.15 times of it's original size \n",
        "image_scaled_3 = cv.resize(image, (200, 400), interpolation=cv.INTER_AREA) \n",
        "ax[2].imshow(cv.cvtColor(image_scaled_3, cv.COLOR_BGR2RGB)) \n",
        "ax[2].set_title(\"Skewed Interpolation Scale\")"
      ],
      "metadata": {
        "colab": {
          "base_uri": "https://localhost:8080/",
          "height": 911
        },
        "id": "UbTGFBJ6MV32",
        "outputId": "713544d8-0b42-4c13-f5b0-dfa142401388"
      },
      "execution_count": 29,
      "outputs": [
        {
          "output_type": "error",
          "ename": "error",
          "evalue": "ignored",
          "traceback": [
            "\u001b[0;31m---------------------------------------------------------------------------\u001b[0m",
            "\u001b[0;31merror\u001b[0m                                     Traceback (most recent call last)",
            "\u001b[0;32m<ipython-input-29-b7c679c13975>\u001b[0m in \u001b[0;36m<cell line: 9>\u001b[0;34m()\u001b[0m\n\u001b[1;32m      7\u001b[0m \u001b[0;34m\u001b[0m\u001b[0m\n\u001b[1;32m      8\u001b[0m \u001b[0;31m# image size being 0.15 times of it's original size\u001b[0m\u001b[0;34m\u001b[0m\u001b[0;34m\u001b[0m\u001b[0m\n\u001b[0;32m----> 9\u001b[0;31m \u001b[0mimage_scaled\u001b[0m \u001b[0;34m=\u001b[0m \u001b[0mcv\u001b[0m\u001b[0;34m.\u001b[0m\u001b[0mresize\u001b[0m\u001b[0;34m(\u001b[0m\u001b[0mimage\u001b[0m\u001b[0;34m,\u001b[0m \u001b[0;32mNone\u001b[0m \u001b[0;34m,\u001b[0m \u001b[0mfx\u001b[0m\u001b[0;34m=\u001b[0m\u001b[0;36m0.15\u001b[0m\u001b[0;34m,\u001b[0m \u001b[0mfy\u001b[0m\u001b[0;34m=\u001b[0m\u001b[0;36m0.15\u001b[0m\u001b[0;34m)\u001b[0m\u001b[0;34m\u001b[0m\u001b[0;34m\u001b[0m\u001b[0m\n\u001b[0m\u001b[1;32m     10\u001b[0m \u001b[0max\u001b[0m\u001b[0;34m[\u001b[0m\u001b[0;36m0\u001b[0m\u001b[0;34m]\u001b[0m\u001b[0;34m.\u001b[0m\u001b[0mimshow\u001b[0m\u001b[0;34m(\u001b[0m\u001b[0mcv\u001b[0m\u001b[0;34m.\u001b[0m\u001b[0mcvtColor\u001b[0m\u001b[0;34m(\u001b[0m\u001b[0mimage_scaled\u001b[0m\u001b[0;34m,\u001b[0m \u001b[0mcv\u001b[0m\u001b[0;34m.\u001b[0m\u001b[0mCOLOR_BGR2RGB\u001b[0m\u001b[0;34m)\u001b[0m\u001b[0;34m)\u001b[0m\u001b[0;34m\u001b[0m\u001b[0;34m\u001b[0m\u001b[0m\n\u001b[1;32m     11\u001b[0m \u001b[0max\u001b[0m\u001b[0;34m[\u001b[0m\u001b[0;36m0\u001b[0m\u001b[0;34m]\u001b[0m\u001b[0;34m.\u001b[0m\u001b[0mset_title\u001b[0m\u001b[0;34m(\u001b[0m\u001b[0;34m\"Linear Interpolation Scale\"\u001b[0m\u001b[0;34m)\u001b[0m\u001b[0;34m\u001b[0m\u001b[0;34m\u001b[0m\u001b[0m\n",
            "\u001b[0;31merror\u001b[0m: OpenCV(4.7.0) /io/opencv/modules/imgproc/src/resize.cpp:4062: error: (-215:Assertion failed) !ssize.empty() in function 'resize'\n"
          ]
        },
        {
          "output_type": "display_data",
          "data": {
            "text/plain": [
              "<Figure size 1600x800 with 3 Axes>"
            ],
            "image/png": "[encoded data removed]"
          },
          "metadata": {}
        }
      ]
    },
    {
      "cell_type": "code",
      "source": [
        "import cv2 as cv \n",
        "import numpy as np \n",
        "import matplotlib.pyplot as plt \n",
        "\n",
        "image = cv.imread(\"kucing.jpg\") \n",
        "h, w = image.shape[:2] \n",
        " \n",
        "rotation_matrix = cv.getRotationMatrix2D((w/2,h/2), -180, 0.5) \n",
        "rotated_image = cv.warpAffine(image, rotation_matrix, (w, h)) \n",
        "plt.imshow(cv.cvtColor(rotated_image, cv.COLOR_BGR2RGB)) \n",
        "plt.title(\"Rotation\")\n",
        "plt.show()\n"
      ],
      "metadata": {
        "id": "PnA-BAaEUZw2"
      },
      "execution_count": null,
      "outputs": []
    },
    {
      "cell_type": "code",
      "source": [
        "import cv2 as cv \n",
        "import numpy as np \n",
        "import matplotlib.pyplot as plt\n",
        "\n",
        "image = cv.imread(\"kucing.jpg\") \n",
        "h, w = image.shape[:2] \n",
        "\n",
        "half_height, half_width = h//4, w//8 \n",
        "transition_matrix = np.float32([[1, 0,  half_width], [0, 1, half_height]]) \n",
        "img_transition = cv.warpAffine(image,transition_matrix, (w, h)) \n",
        "\n",
        "plt.imshow(cv.cvtColor(img_transition, cv.COLOR_BGR2RGB)) \n",
        "\n",
        "plt.title(\"Translation\") plt.show() \n"
      ],
      "metadata": {
        "id": "jLWLimyLUbH5"
      },
      "execution_count": null,
      "outputs": []
    },
    {
      "cell_type": "code",
      "source": [
        "import matplotlib.pyplot as plt \n",
        "from skimage import data \n",
        "from skimage.transform import swirl \n",
        " \n",
        "image = data.checkerboard() \n",
        "swirled = swirl(image, rotation=0, strength=10, \n",
        "radius=120) \n",
        "fig, (ax0, ax1) = plt.subplots(nrows=1, ncols=2, \n",
        "figsize=(8, 3), \n",
        " sharex=True, \n",
        "sharey=True) \n",
        "ax0.imshow(image, cmap=plt.cm.gray) \n",
        "ax0.axis('off') \n",
        "ax1.imshow(swirled, cmap=plt.cm.gray) \n",
        "ax1.axis('off') \n",
        "plt.show()\n"
      ],
      "metadata": {
        "id": "2E4xC-H6UhlV"
      },
      "execution_count": null,
      "outputs": []
    }
  ]
}